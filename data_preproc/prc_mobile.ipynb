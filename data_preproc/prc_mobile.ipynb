{
 "cells": [
  {
   "cell_type": "markdown",
   "metadata": {},
   "source": [
    "### Preprocessing Aalto Mobile Keystrokes Dataset for Keystroke Biometric Authentication"
   ]
  },
  {
   "cell_type": "code",
   "execution_count": 1,
   "metadata": {},
   "outputs": [],
   "source": [
    "import os\n",
    "import csv\n",
    "import pandas as pd\n",
    "import numpy as np\n",
    "import matplotlib.pyplot as plt\n",
    "import seaborn as sns\n",
    "\n",
    "from tqdm import tqdm"
   ]
  },
  {
   "cell_type": "code",
   "execution_count": 2,
   "metadata": {},
   "outputs": [],
   "source": [
    "RAW_KEY = \"./raw_data/csv_raw_and_processed/Data_Raw/keystrokes.csv\"\n",
    "RAW_KEY_HEAD = \"./raw_data/csv_raw_and_processed/Data_Raw/keystrokes_header.csv\"\n",
    "RAW_TEST = \"./raw_data/csv_raw_and_processed/Data_Raw/test_sections.csv\"\n",
    "RAW_TEST_HEAD = \"./raw_data/csv_raw_and_processed/Data_Raw/test_sections_header.csv\"\n",
    "\n",
    "PRC_PATH = \"./prc_data/mobile_users/\"\n",
    "PRC_BENCH = \"./prc_data/mobile_bench/\"\n",
    "PRC_BENCH_REST = \"./prc_data/mobile_bench_rest/\""
   ]
  },
  {
   "cell_type": "code",
   "execution_count": 3,
   "metadata": {},
   "outputs": [],
   "source": [
    "# empty folders\n",
    "prc_files = os.listdir(PRC_PATH)\n",
    "for file in prc_files:\n",
    "  os.remove(PRC_PATH + file)\n",
    "\n",
    "# empty clean folder\n",
    "prc_files = os.listdir(PRC_BENCH)\n",
    "for file in prc_files:\n",
    "  os.remove(PRC_BENCH + file)"
   ]
  },
  {
   "cell_type": "code",
   "execution_count": 4,
   "metadata": {},
   "outputs": [
    {
     "data": {
      "text/html": [
       "<div>\n",
       "<style scoped>\n",
       "    .dataframe tbody tr th:only-of-type {\n",
       "        vertical-align: middle;\n",
       "    }\n",
       "\n",
       "    .dataframe tbody tr th {\n",
       "        vertical-align: top;\n",
       "    }\n",
       "\n",
       "    .dataframe thead th {\n",
       "        text-align: right;\n",
       "    }\n",
       "</style>\n",
       "<table border=\"1\" class=\"dataframe\">\n",
       "  <thead>\n",
       "    <tr style=\"text-align: right;\">\n",
       "      <th></th>\n",
       "      <th>TEST_SECTION_ID</th>\n",
       "      <th>PRESS_TIME</th>\n",
       "      <th>RELEASE_TIME</th>\n",
       "      <th>KEYCODE</th>\n",
       "    </tr>\n",
       "  </thead>\n",
       "  <tbody>\n",
       "    <tr>\n",
       "      <th>0</th>\n",
       "      <td>1</td>\n",
       "      <td>1536208819372</td>\n",
       "      <td>1536208819391</td>\n",
       "      <td>229</td>\n",
       "    </tr>\n",
       "    <tr>\n",
       "      <th>1</th>\n",
       "      <td>1</td>\n",
       "      <td>1536208819590</td>\n",
       "      <td>1536208819599</td>\n",
       "      <td>229</td>\n",
       "    </tr>\n",
       "    <tr>\n",
       "      <th>2</th>\n",
       "      <td>1</td>\n",
       "      <td>1536208819699</td>\n",
       "      <td>1536208819707</td>\n",
       "      <td>229</td>\n",
       "    </tr>\n",
       "    <tr>\n",
       "      <th>3</th>\n",
       "      <td>1</td>\n",
       "      <td>1536208819733</td>\n",
       "      <td>1536208819741</td>\n",
       "      <td>229</td>\n",
       "    </tr>\n",
       "    <tr>\n",
       "      <th>4</th>\n",
       "      <td>1</td>\n",
       "      <td>1536208820102</td>\n",
       "      <td>1536208820113</td>\n",
       "      <td>229</td>\n",
       "    </tr>\n",
       "  </tbody>\n",
       "</table>\n",
       "</div>"
      ],
      "text/plain": [
       "   TEST_SECTION_ID     PRESS_TIME   RELEASE_TIME  KEYCODE\n",
       "0                1  1536208819372  1536208819391      229\n",
       "1                1  1536208819590  1536208819599      229\n",
       "2                1  1536208819699  1536208819707      229\n",
       "3                1  1536208819733  1536208819741      229\n",
       "4                1  1536208820102  1536208820113      229"
      ]
     },
     "execution_count": 4,
     "metadata": {},
     "output_type": "execute_result"
    }
   ],
   "source": [
    "# assemble the keystrokes dataframe\n",
    "keystrokes_df = pd.read_csv(RAW_KEY, header=None, escapechar='\\\\', encoding='ISO-8859-1')\n",
    "key_header = pd.read_csv(RAW_KEY_HEAD, header=None)\n",
    "\n",
    "keystrokes_df.columns = key_header.iloc[1:, 0].values\n",
    "keystrokes_df = keystrokes_df[['TEST_SECTION_ID', 'PRESS_TIME', 'RELEASE_TIME', 'KEYCODE']]\n",
    "keystrokes_df.head()"
   ]
  },
  {
   "cell_type": "code",
   "execution_count": 5,
   "metadata": {},
   "outputs": [
    {
     "data": {
      "text/html": [
       "<div>\n",
       "<style scoped>\n",
       "    .dataframe tbody tr th:only-of-type {\n",
       "        vertical-align: middle;\n",
       "    }\n",
       "\n",
       "    .dataframe tbody tr th {\n",
       "        vertical-align: top;\n",
       "    }\n",
       "\n",
       "    .dataframe thead th {\n",
       "        text-align: right;\n",
       "    }\n",
       "</style>\n",
       "<table border=\"1\" class=\"dataframe\">\n",
       "  <thead>\n",
       "    <tr style=\"text-align: right;\">\n",
       "      <th></th>\n",
       "      <th>TEST_SECTION_ID</th>\n",
       "      <th>SEQUENCE</th>\n",
       "    </tr>\n",
       "  </thead>\n",
       "  <tbody>\n",
       "    <tr>\n",
       "      <th>0</th>\n",
       "      <td>1</td>\n",
       "      <td>[(1536208819372, 1536208819391, 229), (1536208...</td>\n",
       "    </tr>\n",
       "    <tr>\n",
       "      <th>1</th>\n",
       "      <td>2</td>\n",
       "      <td>[(1536208830934, 1536208830950, 229), (1536208...</td>\n",
       "    </tr>\n",
       "    <tr>\n",
       "      <th>2</th>\n",
       "      <td>3</td>\n",
       "      <td>[(1536208854834, 1536208854852, 229), (1536208...</td>\n",
       "    </tr>\n",
       "    <tr>\n",
       "      <th>3</th>\n",
       "      <td>4</td>\n",
       "      <td>[(1536208882492, 1536208882502, 229), (1536208...</td>\n",
       "    </tr>\n",
       "    <tr>\n",
       "      <th>4</th>\n",
       "      <td>5</td>\n",
       "      <td>[(1536208891467, 1536208891478, 229), (1536208...</td>\n",
       "    </tr>\n",
       "  </tbody>\n",
       "</table>\n",
       "</div>"
      ],
      "text/plain": [
       "   TEST_SECTION_ID                                           SEQUENCE\n",
       "0                1  [(1536208819372, 1536208819391, 229), (1536208...\n",
       "1                2  [(1536208830934, 1536208830950, 229), (1536208...\n",
       "2                3  [(1536208854834, 1536208854852, 229), (1536208...\n",
       "3                4  [(1536208882492, 1536208882502, 229), (1536208...\n",
       "4                5  [(1536208891467, 1536208891478, 229), (1536208..."
      ]
     },
     "execution_count": 5,
     "metadata": {},
     "output_type": "execute_result"
    }
   ],
   "source": [
    "# groupby TEST_SECTION_ID and transform to sequence\n",
    "seq_df = keystrokes_df.groupby('TEST_SECTION_ID').apply(lambda x: list(zip(x[\"PRESS_TIME\"], x[\"RELEASE_TIME\"], x[\"KEYCODE\"]))).reset_index()\n",
    "seq_df = seq_df.rename(columns={0: \"SEQUENCE\"})\n",
    "seq_df.head()"
   ]
  },
  {
   "cell_type": "code",
   "execution_count": 6,
   "metadata": {},
   "outputs": [],
   "source": [
    "# transform the sequence into (timestamp, event_type, keycode)\n",
    "\n",
    "def event_func(seqe):\n",
    "  new_seq = []\n",
    "  # for s in seqe:\n",
    "  #   new_seq.append((s[0], 1, s[2]))\n",
    "  #   new_seq.append((s[1], 0, s[2]))\n",
    "  new_seq = sorted(seqe, key=lambda x: x[0])\n",
    "  return new_seq\n",
    "\n",
    "seq_df[\"SEQUENCE\"] = seq_df[\"SEQUENCE\"].apply(event_func)"
   ]
  },
  {
   "cell_type": "code",
   "execution_count": 7,
   "metadata": {},
   "outputs": [
    {
     "data": {
      "text/html": [
       "<div>\n",
       "<style scoped>\n",
       "    .dataframe tbody tr th:only-of-type {\n",
       "        vertical-align: middle;\n",
       "    }\n",
       "\n",
       "    .dataframe tbody tr th {\n",
       "        vertical-align: top;\n",
       "    }\n",
       "\n",
       "    .dataframe thead th {\n",
       "        text-align: right;\n",
       "    }\n",
       "</style>\n",
       "<table border=\"1\" class=\"dataframe\">\n",
       "  <thead>\n",
       "    <tr style=\"text-align: right;\">\n",
       "      <th></th>\n",
       "      <th>TEST_SECTION_ID</th>\n",
       "      <th>SENTENCE_ID</th>\n",
       "      <th>PARTICIPANT_ID</th>\n",
       "      <th>USER_INPUT</th>\n",
       "      <th>INPUT_TIME</th>\n",
       "      <th>EDIT_DISTANCE</th>\n",
       "      <th>ERROR_RATE</th>\n",
       "      <th>WPM</th>\n",
       "      <th>INPUT_LENGTH</th>\n",
       "      <th>ERROR_LEN</th>\n",
       "      <th>POTENTIAL_WPM</th>\n",
       "      <th>POTENTIAL_LENGTH</th>\n",
       "      <th>DEVICE</th>\n",
       "    </tr>\n",
       "  </thead>\n",
       "  <tbody>\n",
       "    <tr>\n",
       "      <th>0</th>\n",
       "      <td>1</td>\n",
       "      <td>901</td>\n",
       "      <td>1</td>\n",
       "      <td>It's not looking too good is it?</td>\n",
       "      <td>8174</td>\n",
       "      <td>0</td>\n",
       "      <td>0</td>\n",
       "      <td>45.510154147296305</td>\n",
       "      <td>31</td>\n",
       "      <td>32</td>\n",
       "      <td>48.117966627861854</td>\n",
       "      <td>31</td>\n",
       "      <td>N</td>\n",
       "    </tr>\n",
       "    <tr>\n",
       "      <th>1</th>\n",
       "      <td>2</td>\n",
       "      <td>1348</td>\n",
       "      <td>1</td>\n",
       "      <td>Once state owned, Telecom is now half owned by...</td>\n",
       "      <td>20182</td>\n",
       "      <td>0</td>\n",
       "      <td>0</td>\n",
       "      <td>41.02665741750074</td>\n",
       "      <td>69</td>\n",
       "      <td>70</td>\n",
       "      <td>41.25644631973746</td>\n",
       "      <td>66</td>\n",
       "      <td>N</td>\n",
       "    </tr>\n",
       "    <tr>\n",
       "      <th>2</th>\n",
       "      <td>3</td>\n",
       "      <td>1252</td>\n",
       "      <td>1</td>\n",
       "      <td>These factors dictate creak limits to the conc...</td>\n",
       "      <td>23969</td>\n",
       "      <td>4</td>\n",
       "      <td>6.25</td>\n",
       "      <td>30.539446785431185</td>\n",
       "      <td>61</td>\n",
       "      <td>64</td>\n",
       "      <td>33.90567267985221</td>\n",
       "      <td>65</td>\n",
       "      <td>N</td>\n",
       "    </tr>\n",
       "    <tr>\n",
       "      <th>3</th>\n",
       "      <td>4</td>\n",
       "      <td>978</td>\n",
       "      <td>1</td>\n",
       "      <td>I have forwarded to Kelly</td>\n",
       "      <td>5230</td>\n",
       "      <td>1</td>\n",
       "      <td>3.8461538461538463</td>\n",
       "      <td>57.361376673040155</td>\n",
       "      <td>25</td>\n",
       "      <td>26</td>\n",
       "      <td>61.52584085315833</td>\n",
       "      <td>25</td>\n",
       "      <td>N</td>\n",
       "    </tr>\n",
       "    <tr>\n",
       "      <th>4</th>\n",
       "      <td>5</td>\n",
       "      <td>517</td>\n",
       "      <td>1</td>\n",
       "      <td>Thank to you soon, Gerrard</td>\n",
       "      <td>5210</td>\n",
       "      <td>9</td>\n",
       "      <td>33.33333333333333</td>\n",
       "      <td>59.88483685220729</td>\n",
       "      <td>26</td>\n",
       "      <td>27</td>\n",
       "      <td>64.06570841889116</td>\n",
       "      <td>26</td>\n",
       "      <td>N</td>\n",
       "    </tr>\n",
       "  </tbody>\n",
       "</table>\n",
       "</div>"
      ],
      "text/plain": [
       "   TEST_SECTION_ID  SENTENCE_ID  PARTICIPANT_ID  \\\n",
       "0                1          901               1   \n",
       "1                2         1348               1   \n",
       "2                3         1252               1   \n",
       "3                4          978               1   \n",
       "4                5          517               1   \n",
       "\n",
       "                                          USER_INPUT INPUT_TIME EDIT_DISTANCE  \\\n",
       "0                   It's not looking too good is it?       8174             0   \n",
       "1  Once state owned, Telecom is now half owned by...      20182             0   \n",
       "2  These factors dictate creak limits to the conc...      23969             4   \n",
       "3                         I have forwarded to Kelly        5230             1   \n",
       "4                        Thank to you soon, Gerrard        5210             9   \n",
       "\n",
       "           ERROR_RATE                 WPM INPUT_LENGTH ERROR_LEN  \\\n",
       "0                   0  45.510154147296305           31        32   \n",
       "1                   0   41.02665741750074           69        70   \n",
       "2                6.25  30.539446785431185           61        64   \n",
       "3  3.8461538461538463  57.361376673040155           25        26   \n",
       "4   33.33333333333333   59.88483685220729           26        27   \n",
       "\n",
       "        POTENTIAL_WPM POTENTIAL_LENGTH DEVICE  \n",
       "0  48.117966627861854               31      N  \n",
       "1   41.25644631973746               66      N  \n",
       "2   33.90567267985221               65      N  \n",
       "3   61.52584085315833               25      N  \n",
       "4   64.06570841889116               26      N  "
      ]
     },
     "execution_count": 7,
     "metadata": {},
     "output_type": "execute_result"
    }
   ],
   "source": [
    "# assemble the test_section df\n",
    "mobile_test_section_df = pd.read_csv(RAW_TEST, escapechar='\\\\', quotechar='\"', encoding='ISO-8859-1', header=None)\n",
    "header_df = pd.read_csv(RAW_TEST_HEAD)\n",
    "# put header on test sections df\n",
    "mobile_test_section_df.columns = header_df.iloc[:, 0].values\n",
    "mobile_test_section_df.head()"
   ]
  },
  {
   "cell_type": "code",
   "execution_count": 8,
   "metadata": {},
   "outputs": [
    {
     "data": {
      "text/html": [
       "<div>\n",
       "<style scoped>\n",
       "    .dataframe tbody tr th:only-of-type {\n",
       "        vertical-align: middle;\n",
       "    }\n",
       "\n",
       "    .dataframe tbody tr th {\n",
       "        vertical-align: top;\n",
       "    }\n",
       "\n",
       "    .dataframe thead th {\n",
       "        text-align: right;\n",
       "    }\n",
       "</style>\n",
       "<table border=\"1\" class=\"dataframe\">\n",
       "  <thead>\n",
       "    <tr style=\"text-align: right;\">\n",
       "      <th></th>\n",
       "      <th>PARTICIPANT_ID</th>\n",
       "      <th>TEST_SECTION_ID</th>\n",
       "      <th>SEQUENCE</th>\n",
       "    </tr>\n",
       "  </thead>\n",
       "  <tbody>\n",
       "    <tr>\n",
       "      <th>0</th>\n",
       "      <td>1</td>\n",
       "      <td>1</td>\n",
       "      <td>[(1536208819372, 1, 229), (1536208819391, 0, 2...</td>\n",
       "    </tr>\n",
       "    <tr>\n",
       "      <th>1</th>\n",
       "      <td>1</td>\n",
       "      <td>2</td>\n",
       "      <td>[(1536208830934, 1, 229), (1536208830950, 0, 2...</td>\n",
       "    </tr>\n",
       "    <tr>\n",
       "      <th>2</th>\n",
       "      <td>1</td>\n",
       "      <td>3</td>\n",
       "      <td>[(1536208854834, 1, 229), (1536208854852, 0, 2...</td>\n",
       "    </tr>\n",
       "    <tr>\n",
       "      <th>3</th>\n",
       "      <td>1</td>\n",
       "      <td>4</td>\n",
       "      <td>[(1536208882492, 1, 229), (1536208882502, 0, 2...</td>\n",
       "    </tr>\n",
       "    <tr>\n",
       "      <th>4</th>\n",
       "      <td>1</td>\n",
       "      <td>5</td>\n",
       "      <td>[(1536208891467, 1, 229), (1536208891478, 0, 2...</td>\n",
       "    </tr>\n",
       "    <tr>\n",
       "      <th>...</th>\n",
       "      <td>...</td>\n",
       "      <td>...</td>\n",
       "      <td>...</td>\n",
       "    </tr>\n",
       "    <tr>\n",
       "      <th>1648877</th>\n",
       "      <td>274176</td>\n",
       "      <td>1811849</td>\n",
       "      <td>[(1547802187014, 1, 229), (1547802187027, 0, 2...</td>\n",
       "    </tr>\n",
       "    <tr>\n",
       "      <th>1648881</th>\n",
       "      <td>274174</td>\n",
       "      <td>1811853</td>\n",
       "      <td>[(1547802192975, 1, 229), (1547802192983, 0, 2...</td>\n",
       "    </tr>\n",
       "    <tr>\n",
       "      <th>1648885</th>\n",
       "      <td>274178</td>\n",
       "      <td>1811858</td>\n",
       "      <td>[(1547802201308, 1, 229), (1547802201317, 0, 2...</td>\n",
       "    </tr>\n",
       "    <tr>\n",
       "      <th>1648886</th>\n",
       "      <td>274169</td>\n",
       "      <td>1811859</td>\n",
       "      <td>[(1547802206625, 1, 76), (1547802206631, 0, 76...</td>\n",
       "    </tr>\n",
       "    <tr>\n",
       "      <th>1648890</th>\n",
       "      <td>274178</td>\n",
       "      <td>1811864</td>\n",
       "      <td>[(1547802213316, 1, 229), (1547802213324, 0, 2...</td>\n",
       "    </tr>\n",
       "  </tbody>\n",
       "</table>\n",
       "<p>594997 rows × 3 columns</p>\n",
       "</div>"
      ],
      "text/plain": [
       "         PARTICIPANT_ID  TEST_SECTION_ID  \\\n",
       "0                     1                1   \n",
       "1                     1                2   \n",
       "2                     1                3   \n",
       "3                     1                4   \n",
       "4                     1                5   \n",
       "...                 ...              ...   \n",
       "1648877          274176          1811849   \n",
       "1648881          274174          1811853   \n",
       "1648885          274178          1811858   \n",
       "1648886          274169          1811859   \n",
       "1648890          274178          1811864   \n",
       "\n",
       "                                                  SEQUENCE  \n",
       "0        [(1536208819372, 1, 229), (1536208819391, 0, 2...  \n",
       "1        [(1536208830934, 1, 229), (1536208830950, 0, 2...  \n",
       "2        [(1536208854834, 1, 229), (1536208854852, 0, 2...  \n",
       "3        [(1536208882492, 1, 229), (1536208882502, 0, 2...  \n",
       "4        [(1536208891467, 1, 229), (1536208891478, 0, 2...  \n",
       "...                                                    ...  \n",
       "1648877  [(1547802187014, 1, 229), (1547802187027, 0, 2...  \n",
       "1648881  [(1547802192975, 1, 229), (1547802192983, 0, 2...  \n",
       "1648885  [(1547802201308, 1, 229), (1547802201317, 0, 2...  \n",
       "1648886  [(1547802206625, 1, 76), (1547802206631, 0, 76...  \n",
       "1648890  [(1547802213316, 1, 229), (1547802213324, 0, 2...  \n",
       "\n",
       "[594997 rows x 3 columns]"
      ]
     },
     "execution_count": 8,
     "metadata": {},
     "output_type": "execute_result"
    }
   ],
   "source": [
    "# join by test_section_id\n",
    "joined_df = seq_df.merge(mobile_test_section_df[['TEST_SECTION_ID', \"PARTICIPANT_ID\"]], on='TEST_SECTION_ID', how='left')\n",
    "joined_part_df = joined_df[['PARTICIPANT_ID', 'TEST_SECTION_ID', \"SEQUENCE\"]].groupby(['PARTICIPANT_ID'])\n",
    "joined_part_df.head()"
   ]
  },
  {
   "cell_type": "code",
   "execution_count": 9,
   "metadata": {},
   "outputs": [],
   "source": [
    "for name, group in joined_part_df:\n",
    "    if len(group) >= 15:\n",
    "      valid = True\n",
    "      for i, row in group.iterrows():\n",
    "          if len(row['SEQUENCE']) < 50:\n",
    "              valid = False\n",
    "              break\n",
    "      if valid:\n",
    "        group.to_csv(f'{PRC_PATH}/{name}.csv', index=False)"
   ]
  },
  {
   "cell_type": "markdown",
   "metadata": {},
   "source": [
    "#### Create the Typeformer Benchmark"
   ]
  },
  {
   "cell_type": "code",
   "execution_count": 10,
   "metadata": {},
   "outputs": [],
   "source": [
    "import json\n",
    "test_users = json.load(open('typeformer_bench.json'))\n",
    "# transform keys into ints\n",
    "test_users = {int(k): list(map(int, v)) for k, v in test_users.items()}"
   ]
  },
  {
   "cell_type": "code",
   "execution_count": 11,
   "metadata": {},
   "outputs": [],
   "source": [
    "for user, test_id_list in test_users.items():\n",
    "  curr_group = joined_part_df.get_group(user)\n",
    "  curr_group = curr_group[curr_group[\"TEST_SECTION_ID\"].isin(test_id_list)]\n",
    "  curr_group.to_csv(f\"{PRC_BENCH}/{user}.csv\", index=False)"
   ]
  },
  {
   "cell_type": "code",
   "execution_count": 12,
   "metadata": {},
   "outputs": [
    {
     "data": {
      "text/plain": [
       "1000"
      ]
     },
     "execution_count": 12,
     "metadata": {},
     "output_type": "execute_result"
    }
   ],
   "source": [
    "len(os.listdir(PRC_BENCH))"
   ]
  },
  {
   "cell_type": "code",
   "execution_count": 14,
   "metadata": {},
   "outputs": [],
   "source": [
    "# all mobile users\n",
    "all_mobile = os.listdir(PRC_PATH)\n",
    "bench_mobile = os.listdir(PRC_BENCH)\n",
    "bench_rest_mobile = list(set(all_mobile) - set(bench_mobile))\n",
    "\n",
    "# copy the files into PRC_BENCH_REST\n",
    "for file in bench_rest_mobile:\n",
    "  os.system(f\"cp {PRC_PATH}/{file} {PRC_BENCH_REST}/{file}\")"
   ]
  },
  {
   "cell_type": "code",
   "execution_count": 15,
   "metadata": {},
   "outputs": [
    {
     "data": {
      "text/plain": [
       "14726"
      ]
     },
     "execution_count": 15,
     "metadata": {},
     "output_type": "execute_result"
    }
   ],
   "source": [
    "len(os.listdir(PRC_BENCH_REST))"
   ]
  },
  {
   "cell_type": "code",
   "execution_count": 16,
   "metadata": {},
   "outputs": [
    {
     "data": {
      "text/plain": [
       "14964"
      ]
     },
     "execution_count": 16,
     "metadata": {},
     "output_type": "execute_result"
    }
   ],
   "source": [
    "len(os.listdir(PRC_PATH))"
   ]
  },
  {
   "cell_type": "code",
   "execution_count": null,
   "metadata": {},
   "outputs": [],
   "source": []
  }
 ],
 "metadata": {
  "kernelspec": {
   "display_name": "m1_ml",
   "language": "python",
   "name": "python3"
  },
  "language_info": {
   "codemirror_mode": {
    "name": "ipython",
    "version": 3
   },
   "file_extension": ".py",
   "mimetype": "text/x-python",
   "name": "python",
   "nbconvert_exporter": "python",
   "pygments_lexer": "ipython3",
   "version": "3.10.4"
  },
  "orig_nbformat": 4
 },
 "nbformat": 4,
 "nbformat_minor": 2
}
