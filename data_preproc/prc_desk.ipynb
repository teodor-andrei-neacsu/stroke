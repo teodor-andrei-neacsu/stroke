{
 "cells": [
  {
   "cell_type": "markdown",
   "metadata": {},
   "source": [
    "### Preprocessing Aalto Desktop Keystrokes Dataset for Keystroke Biometric Authentication"
   ]
  },
  {
   "cell_type": "code",
   "execution_count": 1,
   "metadata": {},
   "outputs": [],
   "source": [
    "import os\n",
    "import csv\n",
    "import pandas as pd\n",
    "import numpy as np\n",
    "import matplotlib.pyplot as plt\n",
    "import seaborn as sns\n",
    "\n",
    "from tqdm import tqdm"
   ]
  },
  {
   "cell_type": "code",
   "execution_count": 2,
   "metadata": {},
   "outputs": [],
   "source": [
    "PRC_PATH = \"./prc_data/desk_users/\"\n",
    "RAW_PATH = \"./raw_data/Keystrokes/files/\""
   ]
  },
  {
   "cell_type": "code",
   "execution_count": 3,
   "metadata": {},
   "outputs": [
    {
     "name": "stdout",
     "output_type": "stream",
     "text": [
      "All users session count: 168595\n"
     ]
    }
   ],
   "source": [
    "# all the user sessios count:\n",
    "print(\"All users session count:\", len(os.listdir(RAW_PATH)))"
   ]
  },
  {
   "cell_type": "code",
   "execution_count": 4,
   "metadata": {},
   "outputs": [],
   "source": [
    "# empty clean folder\n",
    "prc_files = os.listdir(PRC_PATH)\n",
    "for file in prc_files:\n",
    "  os.remove(PRC_PATH + file)"
   ]
  },
  {
   "cell_type": "code",
   "execution_count": 5,
   "metadata": {},
   "outputs": [],
   "source": [
    "def keylogs_to_sesh(keylog_df: pd.DataFrame) -> None:\n",
    "\n",
    "  gr_df = keylog_df.groupby(['PARTICIPANT_ID', 'TEST_SECTION_ID'])\n",
    "\n",
    "  press_code = 1\n",
    "  release_code = 0\n",
    "\n",
    "  session_data = []\n",
    "  for part_test, group in gr_df:\n",
    "    \n",
    "    sequence = []\n",
    "    for idx, row in group.iterrows():\n",
    "      # press_time = row['PRESS_TIME']\n",
    "      # release_time = row['RELEASE_TIME']\n",
    "      # keycode = row['KEYCODE']\n",
    "      # sequence.append((press_time, press_code,  keycode))\n",
    "      # sequence.append((release_time, release_code, keycode))\n",
    "      sequence.append((row['PRESS_TIME'], row['RELEASE_TIME'], row['KEYCODE']))\n",
    "\n",
    "    # sort by time\n",
    "    sequence = sorted(sequence, key=lambda x: x[0])\n",
    "\n",
    "    # session = participant_id, test_id, sequence\n",
    "    session_data.append((part_test[0], part_test[1], sequence))\n",
    "\n",
    "  session_df = pd.DataFrame(session_data, columns=['PARTICIPANT_ID', 'TEST_SECTION_ID', 'SEQUENCE'])\n",
    "\n",
    "  return session_df\n",
    "\n",
    "def validate_user_set(session_df: pd.DataFrame) -> None:\n",
    "  # validate typing sessions for each user\n",
    "  # filter by the minimum of events per session and the maximum time difference between eventsv - not anymore\n",
    "  # max_time_diff = 5\n",
    "\n",
    "  min_events = 20 # minimum number of key events\n",
    "\n",
    "  valid = True\n",
    "\n",
    "  # iterate over each row\n",
    "  for i, row in session_df.iterrows():\n",
    "\n",
    "    sequence = row[\"SEQUENCE\"]\n",
    "\n",
    "    events_cnt = len(sequence)\n",
    "    if events_cnt < min_events:\n",
    "      valid = False\n",
    "      break\n",
    "  \n",
    "  return valid"
   ]
  },
  {
   "cell_type": "code",
   "execution_count": 6,
   "metadata": {},
   "outputs": [
    {
     "name": "stderr",
     "output_type": "stream",
     "text": [
      " 33%|███▎      | 55684/168595 [14:31<43:37, 43.13it/s]  "
     ]
    },
    {
     "name": "stdout",
     "output_type": "stream",
     "text": [
      "Error processing file: metadata_participants.txt\n"
     ]
    },
    {
     "name": "stderr",
     "output_type": "stream",
     "text": [
      " 75%|███████▍  | 126009/168595 [31:46<09:56, 71.42it/s]"
     ]
    },
    {
     "name": "stdout",
     "output_type": "stream",
     "text": [
      "Error processing file: readme.txt\n"
     ]
    },
    {
     "name": "stderr",
     "output_type": "stream",
     "text": [
      "100%|██████████| 168595/168595 [42:00<00:00, 66.89it/s]\n"
     ]
    }
   ],
   "source": [
    "raw_sessions = os.listdir(RAW_PATH)\n",
    "\n",
    "for session_file in tqdm(raw_sessions):\n",
    "    \n",
    "  with open(RAW_PATH + \"/\" + session_file, \"r\", encoding='windows-1252') as f:\n",
    "    content = f.read()\n",
    "    # replace \\n\n",
    "    content = content.replace('\\t\\n\\t', '\\tnewline\\t')\n",
    "    content = content.replace('\\t\\t\\t', '\\ttab\\t')\n",
    "\n",
    "  with open(RAW_PATH + \"/\" + session_file, \"w\", encoding='windows-1252') as f:\n",
    "    f.write(content)\n",
    "    f.close()\n",
    "\n",
    "  try:\n",
    "    df = pd.read_csv(RAW_PATH + \"/\" + session_file, sep='\\t',\n",
    "                      encoding=\"windows-1252\", quoting=csv.QUOTE_NONE)\n",
    "    session_df = keylogs_to_sesh(df)\n",
    "   \n",
    "    if validate_user_set(session_df):\n",
    "      session_df.to_csv(PRC_PATH + \"/\" + session_file)\n",
    "  except:\n",
    "    print(\"Error processing file: \" + session_file)\n",
    "\n",
    "    "
   ]
  },
  {
   "cell_type": "code",
   "execution_count": 7,
   "metadata": {},
   "outputs": [
    {
     "data": {
      "text/plain": [
       "37493"
      ]
     },
     "execution_count": 7,
     "metadata": {},
     "output_type": "execute_result"
    }
   ],
   "source": [
    "len(os.listdir(PRC_PATH))"
   ]
  },
  {
   "cell_type": "code",
   "execution_count": null,
   "metadata": {},
   "outputs": [],
   "source": []
  }
 ],
 "metadata": {
  "kernelspec": {
   "display_name": "m1_ml",
   "language": "python",
   "name": "python3"
  },
  "language_info": {
   "codemirror_mode": {
    "name": "ipython",
    "version": 3
   },
   "file_extension": ".py",
   "mimetype": "text/x-python",
   "name": "python",
   "nbconvert_exporter": "python",
   "pygments_lexer": "ipython3",
   "version": "3.10.4"
  },
  "orig_nbformat": 4
 },
 "nbformat": 4,
 "nbformat_minor": 2
}
